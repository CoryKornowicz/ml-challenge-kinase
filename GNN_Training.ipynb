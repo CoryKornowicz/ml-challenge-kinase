{
 "cells": [
  {
   "cell_type": "code",
   "execution_count": 69,
   "metadata": {},
   "outputs": [],
   "source": [
    "from kinpred.dataset import df_to_molentry_list, split_molentry_list, KinPredGraphClassDataLoader, map_target_to_vals, MolEntry\n",
    "from kinpred.model import freeze_module, unfreeze_module\n",
    "from kinpred.model import Encoder, Decoder, Discriminator\n",
    "from kinpred.utils import AverageMeter, mol_to_nx\n",
    "from kinpred.gnn_models import LigandModel\n",
    "\n",
    "from rdkit import Chem\n",
    "from rdkit.Chem import AllChem\n",
    "from torch_geometric.data import Batch\n",
    "from torch_geometric.utils import from_networkx\n",
    "from tqdm import tqdm \n",
    "from typing import Tuple, List \n",
    "import collections\n",
    "import itertools\n",
    "import math\n",
    "import matplotlib.pyplot as plt\n",
    "import networkx as nx\n",
    "import numpy as np\n",
    "import operator\n",
    "import pandas as pd\n",
    "import torch\n",
    "import torch.nn as nn\n",
    "import torch.nn.functional as F\n",
    "\n",
    "torch.set_num_threads(8)"
   ]
  },
  {
   "cell_type": "code",
   "execution_count": 2,
   "metadata": {},
   "outputs": [
    {
     "data": {
      "text/html": [
       "<div>\n",
       "<style scoped>\n",
       "    .dataframe tbody tr th:only-of-type {\n",
       "        vertical-align: middle;\n",
       "    }\n",
       "\n",
       "    .dataframe tbody tr th {\n",
       "        vertical-align: top;\n",
       "    }\n",
       "\n",
       "    .dataframe thead th {\n",
       "        text-align: right;\n",
       "    }\n",
       "</style>\n",
       "<table border=\"1\" class=\"dataframe\">\n",
       "  <thead>\n",
       "    <tr style=\"text-align: right;\">\n",
       "      <th></th>\n",
       "      <th>SMILES</th>\n",
       "      <th>measurement_type</th>\n",
       "      <th>measurement_value</th>\n",
       "      <th>Kinase_name</th>\n",
       "    </tr>\n",
       "  </thead>\n",
       "  <tbody>\n",
       "    <tr>\n",
       "      <th>0</th>\n",
       "      <td>C#CCCOC(=O)N1CCC(n2cc(C(N)=O)c(Nc3ccc(F)cc3)n2...</td>\n",
       "      <td>pIC50</td>\n",
       "      <td>6.81</td>\n",
       "      <td>JAK2</td>\n",
       "    </tr>\n",
       "    <tr>\n",
       "      <th>1</th>\n",
       "      <td>C#CCCOC(=O)N1CCC(n2cc(C(N)=O)c(Nc3ccc(F)cc3)n2...</td>\n",
       "      <td>pIC50</td>\n",
       "      <td>8.05</td>\n",
       "      <td>JAK1</td>\n",
       "    </tr>\n",
       "    <tr>\n",
       "      <th>2</th>\n",
       "      <td>C#CCN(c1ccc(C#N)cn1)C1CCN(c2ncnc3[nH]ccc23)C1</td>\n",
       "      <td>pIC50</td>\n",
       "      <td>10.26</td>\n",
       "      <td>JAK2</td>\n",
       "    </tr>\n",
       "    <tr>\n",
       "      <th>3</th>\n",
       "      <td>C#CCN(c1ccc(C#N)cn1)C1CCN(c2ncnc3[nH]ccc23)C1</td>\n",
       "      <td>pIC50</td>\n",
       "      <td>10.26</td>\n",
       "      <td>JAK1</td>\n",
       "    </tr>\n",
       "    <tr>\n",
       "      <th>4</th>\n",
       "      <td>C#CCNCC1CCC(c2nnn3cnc4[nH]ccc4c23)CC1</td>\n",
       "      <td>pIC50</td>\n",
       "      <td>7.36</td>\n",
       "      <td>JAK2</td>\n",
       "    </tr>\n",
       "  </tbody>\n",
       "</table>\n",
       "</div>"
      ],
      "text/plain": [
       "                                              SMILES measurement_type  \\\n",
       "0  C#CCCOC(=O)N1CCC(n2cc(C(N)=O)c(Nc3ccc(F)cc3)n2...            pIC50   \n",
       "1  C#CCCOC(=O)N1CCC(n2cc(C(N)=O)c(Nc3ccc(F)cc3)n2...            pIC50   \n",
       "2      C#CCN(c1ccc(C#N)cn1)C1CCN(c2ncnc3[nH]ccc23)C1            pIC50   \n",
       "3      C#CCN(c1ccc(C#N)cn1)C1CCN(c2ncnc3[nH]ccc23)C1            pIC50   \n",
       "4              C#CCNCC1CCC(c2nnn3cnc4[nH]ccc4c23)CC1            pIC50   \n",
       "\n",
       "   measurement_value Kinase_name  \n",
       "0               6.81        JAK2  \n",
       "1               8.05        JAK1  \n",
       "2              10.26        JAK2  \n",
       "3              10.26        JAK1  \n",
       "4               7.36        JAK2  "
      ]
     },
     "execution_count": 2,
     "metadata": {},
     "output_type": "execute_result"
    }
   ],
   "source": [
    "# Read in the data \n",
    "df = pd.read_csv(\"kinase_JAK.csv\")\n",
    "df.head()"
   ]
  },
  {
   "cell_type": "code",
   "execution_count": 58,
   "metadata": {},
   "outputs": [
    {
     "name": "stdout",
     "output_type": "stream",
     "text": [
      "Number of samples: 4528\n"
     ]
    }
   ],
   "source": [
    "mol_list, targets = df_to_molentry_list(df)\n",
    "print(f\"Number of samples: {len(mol_list)}\")"
   ]
  },
  {
   "cell_type": "code",
   "execution_count": 5,
   "metadata": {},
   "outputs": [
    {
     "name": "stderr",
     "output_type": "stream",
     "text": [
      "100%|██████████| 4428/4428 [00:42<00:00, 105.30it/s]\n",
      "100%|██████████| 100/100 [00:01<00:00, 95.59it/s]\n"
     ]
    }
   ],
   "source": [
    "## Pre-Load all MolEntry Objects using multiprocessing\n",
    "\n",
    "from concurrent.futures import ThreadPoolExecutor, as_completed\n",
    "\n",
    "def load_molentry(entry):\n",
    "    entry.to_fp()\n",
    "    return True\n",
    "\n",
    "with ThreadPoolExecutor(max_workers=8) as executor:\n",
    "    futures = [executor.submit(load_molentry, entry) for entry in mol_list]\n",
    "    for future in tqdm(as_completed(futures), total=len(futures)):\n",
    "        pass\n",
    "\n",
    "with ThreadPoolExecutor(max_workers=8) as executor:\n",
    "    futures = [executor.submit(load_molentry, entry) for entry in sample_df]\n",
    "    for future in tqdm(as_completed(futures), total=len(futures)):\n",
    "        pass\n"
   ]
  },
  {
   "cell_type": "code",
   "execution_count": 59,
   "metadata": {},
   "outputs": [
    {
     "name": "stdout",
     "output_type": "stream",
     "text": [
      "Number of samples: 4428\n",
      "Number of samples: 100\n"
     ]
    }
   ],
   "source": [
    "# Sample ~100 random SMILES strings from the dataset and save them to a separate mol list for furtur testing\n",
    "smiles = df[\"SMILES\"].sample(100, replace=False)\n",
    "sample_df = [mol for mol in mol_list if mol.smiles in smiles.values]\n",
    "# remove samples from mol_list \n",
    "mol_list = [mol for mol in mol_list if mol.smiles not in smiles.values]\n",
    "print(f\"Number of samples: {len(mol_list)}\")\n",
    "print(f\"Number of samples: {len(sample_df)}\")"
   ]
  },
  {
   "cell_type": "code",
   "execution_count": null,
   "metadata": {},
   "outputs": [],
   "source": [
    "train, test = split_molentry_list(mol_list, test_size=0.35)\n",
    "train_loader = KinPredGraphClassDataLoader(train, batch_size=64, shuffle=True, num_workers=0, device=\"cpu\", include_fp=True)\n",
    "test_loader = KinPredGraphClassDataLoader(test, batch_size=64, shuffle=True, num_workers=0, device=\"cpu\", include_fp=True)\n",
    "model = LigandModel(in_channels=18,edge_features=6,hidden_dim=128,residual_layers=4,mlp_layers=3,\\\n",
    "                    key_dim=1024,dropout_rate=0.15).double()\n",
    "model.train()"
   ]
  },
  {
   "cell_type": "code",
   "execution_count": 17,
   "metadata": {},
   "outputs": [],
   "source": [
    "optim = torch.optim.Adam(model.parameters(), lr=0.001)\n",
    "mse_criterion = nn.MSELoss()\n",
    "bce_criterion = nn.BCEWithLogitsLoss()"
   ]
  },
  {
   "cell_type": "code",
   "execution_count": null,
   "metadata": {},
   "outputs": [],
   "source": [
    "for i in range(150):\n",
    "    train_loss = AverageMeter()\n",
    "    test_loss = AverageMeter()\n",
    "    model.train()\n",
    "    for batch in train_loader:\n",
    "        feats, labels, targets, fps = batch\n",
    "        optim.zero_grad()\n",
    "        out_energy, out_labels = model(feats, fps)\n",
    "        loss = 0.5*(mse_criterion(F.relu(out_energy), targets) + bce_criterion(out_labels, labels))\n",
    "        # loss = mse_criterion(F.relu(out_energy), targets)\n",
    "        train_loss.update(loss.item())\n",
    "        loss.backward()\n",
    "        optim.step()\n",
    "    with torch.no_grad():\n",
    "        model.eval()\n",
    "        for batch in test_loader:\n",
    "            feats, labels, targets, fps = batch\n",
    "            out_energy, out_labels = model(feats, fps)\n",
    "            loss = 0.5*(mse_criterion(F.relu(out_energy), targets) + bce_criterion(out_labels, labels))\n",
    "            # loss = mse_criterion(F.relu(out_energy), targets)\n",
    "            test_loss.update(loss.item())\n",
    "    print(f\"Epoch {i} Train Loss: {train_loss} Test Loss: {test_loss}\")\n",
    "    "
   ]
  },
  {
   "cell_type": "code",
   "execution_count": null,
   "metadata": {},
   "outputs": [],
   "source": [
    "# save neural network\n",
    "torch.save(model.state_dict(), \"kinpred/weights/GNN/gnn_model.pth\")"
   ]
  },
  {
   "attachments": {},
   "cell_type": "markdown",
   "metadata": {},
   "source": [
    "## Evaluate the Graph Neural Network"
   ]
  },
  {
   "cell_type": "code",
   "execution_count": null,
   "metadata": {},
   "outputs": [],
   "source": [
    "# Load the model\n",
    "model.load_state_dict(torch.load(\"kinpred/weights/GNN/gnn_model.pth\"))\n",
    "model.eval()"
   ]
  },
  {
   "cell_type": "code",
   "execution_count": 63,
   "metadata": {},
   "outputs": [],
   "source": [
    "# Test R2 accuracy\n",
    "from sklearn.metrics import r2_score, mean_absolute_error, mean_absolute_percentage_error, accuracy_score, roc_auc_score\n",
    "from scipy.stats import pearsonr"
   ]
  },
  {
   "cell_type": "code",
   "execution_count": 67,
   "metadata": {},
   "outputs": [
    {
     "name": "stdout",
     "output_type": "stream",
     "text": [
      "Energy R2:  0.841416299903285\n",
      "Energy MAE:  0.5514365903302495\n",
      "Energy Pearson:  PearsonRResult(statistic=0.9531710093385087, pvalue=0.0)\n",
      "Labels Accuracy:  0.9732258064516129\n",
      "Labels AUC:  0.9836182157453703\n"
     ]
    },
    {
     "data": {
      "image/png": "[encoded data removed]",
      "text/plain": [
       "<Figure size 640x480 with 1 Axes>"
      ]
     },
     "metadata": {},
     "output_type": "display_data"
    }
   ],
   "source": [
    "target_energy, target_labels, out_energy, out_labels = [],[],[],[]\n",
    "\n",
    "with torch.no_grad():\n",
    "    model.eval()\n",
    "    for batch in test_loader:\n",
    "        feats, labels, targets, fps = batch\n",
    "        out_e, out_l = model(feats, fps)\n",
    "        out_energy.append(F.relu(out_e).detach().numpy())\n",
    "        out_labels.append(torch.sigmoid(out_l).detach().numpy())\n",
    "        target_energy.append(targets.detach().numpy())\n",
    "        target_labels.append(labels.detach().numpy())\n",
    "\n",
    "out_energy = np.vstack(out_energy)\n",
    "out_labels = np.vstack(out_labels)\n",
    "target_energy = np.vstack(target_energy)\n",
    "target_labels = np.vstack(target_labels)\n",
    "\n",
    "print(\"Energy R2: \", r2_score(target_energy, out_energy))\n",
    "print(\"Energy MAE: \", mean_absolute_error(target_energy, out_energy))\n",
    "print(\"Energy Pearson: \", pearsonr(target_energy.flatten(), out_energy.flatten()))\n",
    "\n",
    "print(\"Labels Accuracy: \", accuracy_score(target_labels.flatten(), out_labels.flatten().round()))\n",
    "print(\"Labels AUC: \", roc_auc_score(target_labels.flatten(), out_labels.flatten()))\n",
    "\n",
    "# plt.scatter(target_energy.flatten(), out_energy.flatten())\n",
    "plt.hist(out_energy.flatten(), bins=25, alpha=0.5, label=\"Output Energy\")\n",
    "plt.xlabel(\"Target Energy\")\n",
    "plt.ylabel(\"Predicted Energy\")\n",
    "plt.show()\n"
   ]
  },
  {
   "attachments": {},
   "cell_type": "markdown",
   "metadata": {},
   "source": [
    "These results show how the model learned the underlying features that constituted a selective binder by using molecular fingerprints and graph neural networks. It is able to predict the binding affinity to within a mean absolute error of 0.55 kcal/mol. This is a significant improvement over the MLP models, which would have required 4 separate copies and did not show well correlated results. Lets explore how well it does on the 100 samples we removed early on to make sure the model has not been trained on them."
   ]
  },
  {
   "cell_type": "code",
   "execution_count": 68,
   "metadata": {},
   "outputs": [
    {
     "name": "stdout",
     "output_type": "stream",
     "text": [
      "Energy R2:  0.8015602658900649\n",
      "Energy MAE:  0.6302745896665746\n",
      "Energy Pearson:  PearsonRResult(statistic=0.9453278544105759, pvalue=8.933875331128324e-196)\n",
      "Labels Accuracy:  0.9775\n",
      "Labels AUC:  0.9901769301470589\n"
     ]
    },
    {
     "data": {
      "image/png": "[encoded data removed]",
      "text/plain": [
       "<Figure size 640x480 with 1 Axes>"
      ]
     },
     "metadata": {},
     "output_type": "display_data"
    }
   ],
   "source": [
    "true_scores = []\n",
    "true_predictions = []\n",
    "sample_scores = []\n",
    "sample_predictions = []\n",
    "\n",
    "for mol in sample_df:\n",
    "    mol.to_fp()\n",
    "    mol_graph = Batch.from_data_list([from_networkx(mol_to_nx(mol.to_mol()))])\n",
    "    fingerprint = torch.from_numpy(np.array([mol.to_fp()]))\n",
    "    true_cls, true_ene = map_target_to_vals(mol)\n",
    "    outenergy, outcls = model(mol_graph, fingerprint)\n",
    "    true_scores.append(true_ene)\n",
    "    true_predictions.append(true_cls)\n",
    "    sample_scores.append(outenergy.detach().numpy())\n",
    "    sample_predictions.append(torch.sigmoid(outcls).detach().numpy())\n",
    "    \n",
    "true_scores = np.vstack(true_scores)\n",
    "true_predictions = np.vstack(true_predictions)\n",
    "sample_scores = np.vstack(sample_scores)\n",
    "sample_predictions = np.vstack(sample_predictions)\n",
    "\n",
    "\n",
    "print(\"Energy R2: \", r2_score(true_scores, sample_scores))\n",
    "print(\"Energy MAE: \", mean_absolute_error(true_scores, sample_scores))\n",
    "print(\"Energy Pearson: \", pearsonr(true_scores.flatten(), sample_scores.flatten()))\n",
    "\n",
    "print(\"Labels Accuracy: \", accuracy_score(true_predictions.flatten(), sample_predictions.flatten().round()))\n",
    "print(\"Labels AUC: \", roc_auc_score(true_predictions.flatten(), sample_predictions.flatten()))\n",
    "\n",
    "# plt.scatter(true_scores.flatten(), sample_scores.flatten())\n",
    "plt.hist(out_energy.flatten(), bins=25, alpha=0.5, label=\"Output Energy\")\n",
    "plt.xlabel(\"Target Energy\")\n",
    "plt.ylabel(\"Predicted Energy\")\n",
    "plt.show()\n",
    "\n"
   ]
  },
  {
   "attachments": {},
   "cell_type": "markdown",
   "metadata": {},
   "source": [
    "This GNN performs well on the data that has been provided for us, but what about Out of Distribution data? We can verify this model's accuracy by examining a few molecules pulled from literature. \n",
    "\n",
    "Selected Molecules: \n",
    "* [WP1066](https://www.selleckchem.com/products/wp1066.html) - inhibitor of JAK2 and STAT3 with IC50 of 2.30 μM and 2.43 μM\n",
    "* [Ruxolitinib](https://www.selleckchem.com/products/INCB18424.html) - JAK1/2 inhibitor to enter the clinic with IC50 of 3.3 nM/2.8 nM in cell-free assays, >130-fold selectivity for JAK1/2 versus JAK3\n",
    "* [AZD1480](https://www.selleckchem.com/products/AZD1480.html) - ATP-competitive JAK2 inhibitor with IC50 of 0.26 nM in a cell-free assay, selectivity against JAK3 and Tyk2, and to a smaller extent against JAK1\n",
    "* [AT9283](https://www.selleckchem.com/products/AT9283.html) - potent JAK2/3 inhibitor with IC50 of 1.2 nM/1.1 nM\n",
    "* [Deucravacitinib](https://www.selleckchem.com/products/bms-986165.html) - highly potent and selective allosteric inhibitor of Tyk2 with a Ki value of 0.02 nM for binding to the Tyk2 pseudokinase domain\n",
    "\n"
   ]
  },
  {
   "cell_type": "code",
   "execution_count": 71,
   "metadata": {},
   "outputs": [],
   "source": [
    "WP1066 = MolEntry(\"CC(C1=CC=CC=C1)NC(=O)C(=CC2=NC(=CC=C2)Br)C#N\", {\"JAK2\": 1})\n",
    "Ruxolitinib = MolEntry(\"C1CCC(C1)C(CC#N)N2C=C(C=N2)C3=C4C=CNC4=NC=N3\", {\"JAK1\": 1, \"JAK2\": 1})\n",
    "AZD1480 = MolEntry(\"CC1=CC(=NN1)NC2=NC(=NC=C2Cl)NC(C)C3=NC=C(C=N3)F\", {\"JAK2\": 1})\n",
    "AT9283 = MolEntry(\"C1CC1NC(=O)NC2=C(NN=C2)C3=NC4=C(N3)C=C(C=C4)CN5CCOCC5\", {\"JAK2\": 1, \"JAK3\": 1})\n",
    "Deucravacitinib = MolEntry(\"CNC(=O)C1=NN=C(C=C1NC2=CC=CC(=C2OC)C3=NN(C=N3)C)NC(=O)C4CC4\", {\"TYK2\": 1})\n",
    "wild_mols = [WP1066, Ruxolitinib, AZD1480, AT9283, Deucravacitinib]"
   ]
  },
  {
   "cell_type": "code",
   "execution_count": 77,
   "metadata": {},
   "outputs": [
    {
     "name": "stdout",
     "output_type": "stream",
     "text": [
      "Labels Accuracy:  0.7\n",
      "Labels AUC:  0.7802197802197802\n",
      "CC(C1=CC=CC=C1)NC(=O)C(=CC2=NC(=CC=C2)Br)C#N [0. 1. 0. 0.] [0.23207289 0.89950372 0.11521842 0.02481012] [0.         5.46490155 1.11242991 0.        ]\n",
      "\n",
      "C1CCC(C1)C(CC#N)N2C=C(C=N2)C3=C4C=CNC4=NC=N3 [1. 1. 0. 0.] [0.99480154 0.75004214 0.99415839 0.0168655 ] [7.68297087 1.43142907 8.0877965  0.        ]\n",
      "\n",
      "CC1=CC(=NN1)NC2=NC(=NC=C2Cl)NC(C)C3=NC=C(C=N3)F [0. 1. 0. 0.] [0.98536569 0.9912869  0.00398882 0.00615706] [7.18804671 7.24496545 0.         0.        ]\n",
      "\n",
      "C1CC1NC(=O)NC2=C(NN=C2)C3=NC4=C(N3)C=C(C=C4)CN5CCOCC5 [0. 1. 1. 0.] [0.02615703 0.9749898  0.99155327 0.0192113 ] [0.         7.64357813 7.48894466 0.602629  ]\n",
      "\n",
      "CNC(=O)C1=NN=C(C=C1NC2=CC=CC(=C2OC)C3=NN(C=N3)C)NC(=O)C4CC4 [0. 0. 0. 1.] [0.97482412 0.97159564 0.80368558 0.04876804] [6.23886682 7.08488249 4.58411717 1.54286922]\n",
      "\n"
     ]
    }
   ],
   "source": [
    "true_predictions = []\n",
    "sample_scores = []\n",
    "sample_predictions = []\n",
    "\n",
    "for mol in wild_mols:\n",
    "    mol.to_fp()\n",
    "    mol_graph = Batch.from_data_list([from_networkx(mol_to_nx(mol.to_mol()))])\n",
    "    fingerprint = torch.from_numpy(np.array([mol.to_fp()]))\n",
    "    true_cls, true_ene = map_target_to_vals(mol)\n",
    "    outenergy, outcls = model(mol_graph, fingerprint)\n",
    "    true_predictions.append(true_cls)\n",
    "    sample_scores.append(outenergy.detach().numpy())\n",
    "    sample_predictions.append(torch.sigmoid(outcls).detach().numpy())\n",
    "    \n",
    "true_predictions = np.vstack(true_predictions)\n",
    "sample_scores = np.vstack(sample_scores)\n",
    "sample_predictions = np.vstack(sample_predictions)\n",
    "\n",
    "print(\"Labels Accuracy: \", accuracy_score(true_predictions.flatten(), sample_predictions.flatten().round()))\n",
    "print(\"Labels AUC: \", roc_auc_score(true_predictions.flatten(), sample_predictions.flatten()))\n",
    "\n",
    "for i, mol in enumerate(wild_mols):\n",
    "    print(mol.smiles, true_predictions[i], sample_predictions[i], sample_scores[i])\n",
    "    print(\"\")"
   ]
  },
  {
   "attachments": {},
   "cell_type": "markdown",
   "metadata": {},
   "source": [
    "With an AUC of 0.78, the model has learned to generalize to OOD data. This is a good sign that the model is not overfitting to the training data, but it does lack predictive abilities for TYK2 only inhibitors. The last prediction showed the highest threshold predicition level for the TYK2 which matches the correct answer, however, it was not enough to reach a correct preditiction. This could be remedied by adding more TYK2 only inhibitors to the dataset, or by reducing the representations of the other targets to artificially balance the dataset."
   ]
  }
 ],
 "metadata": {
  "kernelspec": {
   "display_name": "Python 3",
   "language": "python",
   "name": "python3"
  },
  "language_info": {
   "codemirror_mode": {
    "name": "ipython",
    "version": 3
   },
   "file_extension": ".py",
   "mimetype": "text/x-python",
   "name": "python",
   "nbconvert_exporter": "python",
   "pygments_lexer": "ipython3",
   "version": "3.10.8 | packaged by conda-forge | (main, Nov 22 2022, 08:25:29) [Clang 14.0.6 ]"
  },
  "orig_nbformat": 4,
  "vscode": {
   "interpreter": {
    "hash": "a0d6e4441a58344f7ab0ca2ea3121120005c4d6874e47dd08393e4ae3491b1a4"
   }
  }
 },
 "nbformat": 4,
 "nbformat_minor": 2
}
